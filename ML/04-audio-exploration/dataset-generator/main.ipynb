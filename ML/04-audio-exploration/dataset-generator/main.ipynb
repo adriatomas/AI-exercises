{
 "cells": [
  {
   "cell_type": "code",
   "execution_count": 37,
   "metadata": {},
   "outputs": [],
   "source": [
    "import scipy.io.wavfile\n",
    "import numpy as np \n",
    "from numpy.fft import fft, ifft \n",
    "\n",
    "Fs, audio = scipy.io.wavfile.read('audio2.wav')\n",
    "arr_data = np.genfromtxt('../datasets/vocales.csv', delimiter=',')\n",
    "arr_labels = np.genfromtxt('../datasets/vocales.csv', delimiter=',', dtype=str)[0:,-1]\n",
    "\n",
    "\n",
    "#elimino cabecera y output\n",
    "arr_data = np.delete(arr_data, [-1], 1)"
   ]
  },
  {
   "cell_type": "code",
   "execution_count": 42,
   "metadata": {},
   "outputs": [],
   "source": [
    "def transformFourier(cut):\n",
    "  fourier = fft(cut)\n",
    "  threeKHzCut = int(3000*len(cut)/Fs)\n",
    "  return fourier[0: threeKHzCut], fourier.size\n",
    "\n",
    "def deleteNoiseFromPoints(Fsmall, cut):\n",
    "  filter = int(125*len(cut)/Fs)\n",
    "  to_process = np.sqrt((np.real(Fsmall)**2+np.imag(Fsmall)**2))\n",
    "  out = np.zeros(len(to_process)-filter, dtype=np.float64)\n",
    "\n",
    "  for i in range(len(to_process)-filter):\n",
    "      for j in range(filter):\n",
    "          out[i] += to_process[i+j]\n",
    "\n",
    "  return out\n",
    "\n",
    "def getMaxPoints(cut, out):\n",
    "  filter = int(125*len(cut)/Fs)\n",
    "  cut_filter = int(250 * len(cut) / Fs)\n",
    "  max_points = []\n",
    "\n",
    "\n",
    "  for i in range(3):\n",
    "    curr_max_point = np.argmax(out) + filter\n",
    "    max_points.append(curr_max_point)\n",
    "\n",
    "    start_cut = curr_max_point-filter-cut_filter\n",
    "    end_cut = curr_max_point + cut_filter - filter\n",
    "    if (start_cut < 0):\n",
    "      start_cut = 0\n",
    "  \n",
    "    out[start_cut:end_cut] = 0\n",
    "  \n",
    "  max_points.sort()\n",
    "  \n",
    "  return max_points\n",
    "\n",
    "  \n",
    "   \n",
    "  \n",
    "\n",
    "def createVocalsDataset(audio, Fs, arr_data, arr_labels):\n",
    "  output = []\n",
    "  for i in range(len(arr_data)):\n",
    "  \n",
    "    start, end = arr_data[i]\n",
    "    cut_label = arr_labels[i]\n",
    "\n",
    "    cut = audio[int(start*Fs):int(end*Fs)]\n",
    "    Fsmall, fourier_size = transformFourier(cut)\n",
    "    out = deleteNoiseFromPoints(Fsmall, cut)\n",
    "    max_points = getMaxPoints(cut, out)\n",
    "    max_points = [float(\"{:.2f}\".format(i*Fs/fourier_size)) for i in max_points ]\n",
    "\n",
    "    output.append(max_points + [arr_labels[0]])\n",
    "  \n",
    "\n",
    "  np.savetxt('./../../datasets/vocals-dataset.csv', output, fmt='%s,%s,%s,%s')"
   ]
  },
  {
   "cell_type": "code",
   "execution_count": null,
   "metadata": {},
   "outputs": [],
   "source": [
    "\n",
    "createVocalsDataset(audio, Fs, arr_data, arr_labels)"
   ]
  }
 ],
 "metadata": {
  "kernelspec": {
   "display_name": "Python 3",
   "language": "python",
   "name": "python3"
  },
  "language_info": {
   "codemirror_mode": {
    "name": "ipython",
    "version": 3
   },
   "file_extension": ".py",
   "mimetype": "text/x-python",
   "name": "python",
   "nbconvert_exporter": "python",
   "pygments_lexer": "ipython3",
   "version": "3.10.12"
  }
 },
 "nbformat": 4,
 "nbformat_minor": 2
}
