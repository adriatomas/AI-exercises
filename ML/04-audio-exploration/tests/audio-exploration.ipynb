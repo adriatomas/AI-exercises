{
 "cells": [
  {
   "cell_type": "markdown",
   "metadata": {},
   "source": [
    "Identificar las vocales en milisegundos [inicio/fin]\n",
    "\n",
    "audacity\n",
    "\n",
    "transformada de fourier\n",
    "\n",
    "\n",
    "guardar el output del csv con un array de numpy con np.float32\n",
    "sin headers\n",
    "\n",
    "\n"
   ]
  },
  {
   "cell_type": "code",
   "execution_count": 153,
   "metadata": {},
   "outputs": [],
   "source": [
    "import scipy.io.wavfile\n",
    "import numpy as np #aqui hi ha les estructures de dades que faig servir\n",
    "import matplotlib.pyplot as plt #per dibuixar\n",
    "from IPython.display import Audio #el reproductor d'audio\n",
    "from numpy.fft import fft, ifft #podria fer numpy.fft en comptes de fer aquest\n",
    "\n",
    "Fs, audio = scipy.io.wavfile.read('audio2.wav')\n",
    "arr_data = np.genfromtxt('../datasets/vocales.csv', delimiter=',')\n",
    "arr_labels = np.genfromtxt('../datasets/vocales.csv', delimiter=',', dtype=str)"
   ]
  },
  {
   "cell_type": "markdown",
   "metadata": {},
   "source": [
    "Delete header and output"
   ]
  },
  {
   "cell_type": "code",
   "execution_count": 154,
   "metadata": {},
   "outputs": [],
   "source": [
    "#elimino cabecera y output\n",
    "arr_data = np.delete(arr_data, [0,-1], 0)\n",
    "arr_data = np.delete(arr_data, [-1], 1)\n",
    "\n"
   ]
  },
  {
   "cell_type": "code",
   "execution_count": 155,
   "metadata": {},
   "outputs": [
    {
     "name": "stdout",
     "output_type": "stream",
     "text": [
      "7.819 8.027\n",
      "[-5495 -5568 -5448 ... -1861 -1923 -1968]\n",
      "[48, 183, 216]\n",
      "13.311 13.416\n",
      "[7553 7849 8201 ... 2421 2620 2781]\n",
      "[31, 52, 91]\n",
      "17.654 17.757\n",
      "[2055 2097 2113 ...  396  386  354]\n",
      "[21, 37, 57]\n",
      "16.437 16.548\n",
      "[-2189 -1769 -1369 ...  1686  1791  1817]\n",
      "[18, 38, 68]\n",
      "17.533 17.603\n",
      "[ 389  440  496 ... 2919 2283 1562]\n",
      "[15, 63, 94]\n",
      "13.198 13.272\n",
      "[   -5    -5    -5 ... -1725 -2027 -2379]\n",
      "[16, 27, 71]\n",
      "22.381 22.736\n",
      "[-2772 -2961 -3057 ...   125   186   343]\n",
      "[86, 156, 214]\n",
      "29.798 29.917\n",
      "[ 8523  8927  9241 ... -3503 -2923 -2358]\n",
      "[73, 90, 111]\n",
      "7.919 8.018\n",
      "[-3003 -2774 -2576 ...  -395  -543  -687]\n",
      "[24, 84, 141]\n",
      "21.145 21.295\n",
      "[ -872  -969 -1074 ... -2306 -2933 -3673]\n",
      "[32, 61, 83]\n",
      "12.718 12.862\n",
      "[3982 4426 5087 ... -126 -109  -95]\n",
      "[33, 71, 92]\n",
      "20.144 20.337\n",
      "[  37   60   81 ... -793 -750 -672]\n",
      "[46, 92, 120]\n",
      "6.305 6.419\n",
      "[    5     4     4 ... -4125 -4707 -5598]\n",
      "[26, 60, 250]\n",
      "28.502 28.648\n",
      "[ -38  -74 -110 ... -562 -524 -486]\n",
      "[32, 53, 74]\n",
      "51.107 51.185\n",
      "[2695 2776 2744 ...  680  838  955]\n",
      "[16, 54, 106]\n",
      "62.957 63.071\n",
      "[3911 4083 4150 ... -665 -772 -869]\n",
      "[24, 43, 74]\n",
      "32.001 32.109\n",
      "[-3321 -3421 -3507 ...  -101   -85   -71]\n",
      "[13, 32, 53]\n",
      "34.709 34.816\n",
      "[ 99 133 163 ...  13  12  10]\n",
      "[26, 56, 72]\n",
      "35.256 35.357\n",
      "[ 4137  4004  3864 ... -2973 -2820 -2668]\n",
      "[14, 30, 45]\n",
      "36.251 36.355\n",
      "[ 225  353  484 ...   19 -154 -372]\n",
      "[22, 69, 88]\n",
      "6.742 6.847\n",
      "[-1285 -1254 -1225 ...   150   152   151]\n",
      "[26, 41, 56]\n",
      "27.091 27.13\n",
      "[3533 3540 3527 ... 3921 3716 3508]\n",
      "[5, 11, 16]\n",
      "11.279 11.454\n",
      "[ -60  -61  -60 ... 8436 8952 9218]\n",
      "[39, 75, 101]\n",
      "17.951 18.073\n",
      "[  768   775   780 ... -4767 -4820 -4671]\n",
      "[17, 36, 59]\n",
      "23.192 23.319\n",
      "[-3891 -3853 -3757 ...   140   134   124]\n",
      "[17, 37, 56]\n",
      "30.445 30.605\n",
      "[4941 4792 4641 ...   -9  -10  -16]\n",
      "[25, 51, 83]\n",
      "44.077 44.201\n",
      "[  374   344   317 ... -3253 -2920 -2581]\n",
      "[20, 39, 57]\n",
      "15.174 15.285\n",
      "[ -71  -39    6 ... -157 -129 -112]\n",
      "[13, 30, 51]\n",
      "21.454 21.538\n",
      "[-218 -118  -29 ...  376  455  472]\n",
      "[22, 34, 46]\n",
      "27.626 27.721\n",
      "[-1890 -1810 -1747 ... -1473 -1624 -1722]\n",
      "[21, 42, 56]\n",
      "8.803 8.921\n",
      "[10114 10412 10700 ...  1431  1882  2304]\n",
      "[26, 43, 62]\n",
      "14.739 14.833\n",
      "[1459 1361 1230 ...   38   54   65]\n",
      "[45, 59, 264]\n",
      "47.187 47.336\n",
      "[ -4  -4  -3 ...   6 -42 -91]\n",
      "[142, 193, 215]\n",
      "31.411 31.513\n",
      "[ -167  -216  -247 ... -1126 -1389 -1643]\n",
      "[23, 45, 96]\n",
      "31.665 31.828\n",
      "[-228 -312 -390 ...  -10  -11  -12]\n",
      "[36, 62, 87]\n",
      "32.337 32.421\n",
      "[-218 -264 -303 ... 3505 3680 3879]\n",
      "[12, 25, 41]\n",
      "33.75 33.866\n",
      "[329 200  88 ... -12 -13 -14]\n",
      "[35, 59, 260]\n",
      "34.303 34.419\n",
      "[-206 -221 -237 ...  -61  -17   20]\n",
      "[25, 43, 60]\n",
      "36.057 36.159\n",
      "[-1947 -1854 -1770 ...    -6  -702 -1542]\n",
      "[22, 52, 71]\n",
      "38.05 38.158\n",
      "[ -93 -107 -119 ...   24   23   23]\n",
      "[36, 101, 117]\n",
      "40.871 41.037\n",
      "[ 811  877  936 ... -302 -274 -243]\n",
      "[25, 50, 74]\n",
      "44.58 44.682\n",
      "[   9    8    7 ... 7283 7074 6837]\n",
      "[22, 43, 64]\n",
      "47.711 47.824\n",
      "[  -74   -73   -72 ... -1623 -1574 -1519]\n",
      "[25, 41, 60]\n",
      "51.47 51.582\n",
      "[   24    21    17 ... -6994 -7130 -7267]\n",
      "[24, 46, 68]\n",
      "54.042 54.122\n",
      "[  191   186   191 ... -3081 -2912 -2743]\n",
      "[14, 27, 39]\n",
      "59.699 59.809\n",
      "[5523 5241 4962 ...  726  769  814]\n",
      "[25, 48, 102]\n",
      "63.422 63.56\n",
      "[-885 -883 -883 ... 1253 1218 1181]\n",
      "[30, 55, 75]\n",
      "72.102 72.154\n",
      "[-2713 -2209 -1704 ...  4807  4409  3938]\n",
      "[16, 36, 56]\n",
      "73.587 73.711\n",
      "[  -65   -64   -64 ... -2129 -2090 -2035]\n",
      "[29, 47, 83]\n"
     ]
    }
   ],
   "source": [
    "def generate_vocals_frequencies(csv_data, audio, Fs):\n",
    "  for i in range(len(csv_data)):\n",
    "    start, end = csv_data[i]\n",
    "    print(start, end)\n",
    "    cut = audio[int(start*Fs):int(end*Fs)]\n",
    "    print(cut)\n",
    "\n",
    "    fourier = fft(cut)\n",
    "\n",
    "    Fsmall = fourier[0:int(3000*len(cut)/Fs)] \n",
    "\n",
    "    filter = int(125*len(cut)/Fs)  #Tamaño estandar del filtro\n",
    "    threeKHz = int(3000*len(cut)/Fs)\n",
    "    to_process = np.sqrt((np.real(Fsmall)**2+np.imag(Fsmall)**2))\n",
    "\n",
    "    out = np.zeros(len(to_process)-filter, dtype=np.float64)\n",
    "    for i in range(len(to_process)-filter):\n",
    "        for j in range(filter):\n",
    "            out[i] += to_process[i+j]\n",
    "\n",
    "\n",
    "\n",
    "    cut_filter = int(150 * len(cut) / Fs)\n",
    "    max_points = []\n",
    "\n",
    "    for i in range(3):\n",
    "      curr_max_point = np.argmax(out) + filter\n",
    "      max_points.append(curr_max_point)\n",
    "\n",
    "      start_cut = curr_max_point-filter-cut_filter\n",
    "      end_cut = curr_max_point + cut_filter - filter\n",
    "      if (start_cut < 0):\n",
    "        start_cut = 0\n",
    "      \n",
    "      out[start_cut:end_cut] = 0\n",
    "    \n",
    "\n",
    "    max_points.sort()\n",
    "\n",
    "\n",
    "generate_vocals_frequencies(arr_data, audio, Fs)"
   ]
  },
  {
   "cell_type": "markdown",
   "metadata": {},
   "source": [
    "Display cutted audio"
   ]
  },
  {
   "cell_type": "markdown",
   "metadata": {},
   "source": []
  },
  {
   "cell_type": "markdown",
   "metadata": {},
   "source": [
    "Apply furier transform in order to see a \"more readable plot\""
   ]
  },
  {
   "cell_type": "code",
   "execution_count": 126,
   "metadata": {},
   "outputs": [],
   "source": [
    "\n"
   ]
  },
  {
   "cell_type": "markdown",
   "metadata": {},
   "source": [
    "Only matter the frequencies close to 0, so we take the first 300 elements from the furier array"
   ]
  },
  {
   "cell_type": "code",
   "execution_count": 127,
   "metadata": {},
   "outputs": [],
   "source": [
    "#se recorta el audio a 3kHz por que más hz no tienen \n",
    "\n"
   ]
  },
  {
   "cell_type": "markdown",
   "metadata": {},
   "source": [
    "Delete noise from frequencies"
   ]
  },
  {
   "cell_type": "code",
   "execution_count": 129,
   "metadata": {},
   "outputs": [
    {
     "data": {
      "text/plain": [
       "23"
      ]
     },
     "execution_count": 129,
     "metadata": {},
     "output_type": "execute_result"
    }
   ],
   "source": [
    "\n",
    "\n",
    "np.argmax(out)"
   ]
  },
  {
   "cell_type": "code",
   "execution_count": 130,
   "metadata": {},
   "outputs": [
    {
     "name": "stdout",
     "output_type": "stream",
     "text": [
      "48\n",
      "183\n",
      "216\n"
     ]
    }
   ],
   "source": [
    "\n"
   ]
  },
  {
   "cell_type": "code",
   "execution_count": 131,
   "metadata": {},
   "outputs": [
    {
     "name": "stdout",
     "output_type": "stream",
     "text": [
      "230.7923469898828 Hz\n",
      "879.8958228989281 Hz\n",
      "1038.5655614544726 Hz\n"
     ]
    }
   ],
   "source": [
    "# for max in max_points:\n",
    "#   print(max*Fs/fourier.size, 'Hz')"
   ]
  },
  {
   "cell_type": "markdown",
   "metadata": {},
   "source": [
    "Start the practice"
   ]
  },
  {
   "cell_type": "code",
   "execution_count": 108,
   "metadata": {},
   "outputs": [],
   "source": [
    "import scipy.io.wavfile\n",
    "import numpy as np \n",
    "import matplotlib.pyplot as plt \n",
    "from IPython.display import Audio \n",
    "from numpy.fft import fft, ifft \n",
    "\n",
    "Fs, audio = scipy.io.wavfile.read('audio2.wav')\n",
    "arr_data = np.genfromtxt('../datasets/vocales.csv', delimiter=',')\n",
    "arr_labels = np.genfromtxt('../datasets/vocales.csv', delimiter=',', dtype=str)\n",
    "\n",
    "#elimino cabecera y output\n",
    "arr_data = np.delete(arr_data, [0,-1], 0)\n",
    "arr_data = np.delete(arr_data, [-1], 1)"
   ]
  },
  {
   "cell_type": "code",
   "execution_count": 114,
   "metadata": {},
   "outputs": [
    {
     "name": "stdout",
     "output_type": "stream",
     "text": [
      "7.819 8.027\n",
      "13.311 13.416\n",
      "17.654 17.757\n",
      "16.437 16.548\n",
      "17.533 17.603\n",
      "13.198 13.272\n",
      "22381.0 22736.0\n",
      "29.798 29.917\n",
      "7.919 8.018\n",
      "21.145 21.295\n",
      "12.718 12.862\n",
      "20.144 20.337\n",
      "6.305 6.419\n",
      "28.502 28.648\n",
      "51.107 51.185\n",
      "62.957 63.071\n",
      "32.001 32.109\n",
      "34.709 34.816\n",
      "35.256 35.357\n",
      "36.251 36.355\n",
      "6.742 6.847\n",
      "27.091 27.13\n",
      "11.279 11.454\n",
      "17.951 18.073\n",
      "23.192 23.319\n",
      "30.445 30.605\n",
      "44.077 44.201\n",
      "15.174 15.285\n",
      "21.454 21.538\n",
      "27.626 27.721\n",
      "8.803 8.921\n",
      "14.739 14.833\n",
      "47.187 47.336\n",
      "31.411 31.513\n",
      "31.665 31.828\n",
      "32.337 32.421\n",
      "33.75 33.866\n",
      "34.303 34.419\n",
      "36.057 36.159\n",
      "38.05 38.158\n",
      "40.871 41.037\n",
      "44.58 44.682\n",
      "47.711 47.824\n",
      "51.47 51.582\n",
      "54.042 54.122\n",
      "59.699 59.809\n",
      "63.422 63.56\n",
      "72.102 72.154\n",
      "73.587 73.711\n"
     ]
    }
   ],
   "source": [
    "def createVocalsDataset():\n",
    "  for start, end in arr_data:\n",
    "    cut = audio[int(start*Fs):int(end*Fs)]\n",
    "    \n",
    "\n",
    "createVocalsDataset()"
   ]
  }
 ],
 "metadata": {
  "kernelspec": {
   "display_name": "Python 3",
   "language": "python",
   "name": "python3"
  },
  "language_info": {
   "codemirror_mode": {
    "name": "ipython",
    "version": 3
   },
   "file_extension": ".py",
   "mimetype": "text/x-python",
   "name": "python",
   "nbconvert_exporter": "python",
   "pygments_lexer": "ipython3",
   "version": "3.10.12"
  }
 },
 "nbformat": 4,
 "nbformat_minor": 2
}
