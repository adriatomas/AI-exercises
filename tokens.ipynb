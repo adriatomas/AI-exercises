{
 "cells": [
  {
   "cell_type": "code",
   "execution_count": 52,
   "metadata": {},
   "outputs": [
    {
     "name": "stdout",
     "output_type": "stream",
     "text": [
      "[['a', 'a'], ['a', 'a'], ['b', 'c'], ['a', 'a'], ['a', 'b']]\n"
     ]
    },
    {
     "data": {
      "text/plain": [
       "[]"
      ]
     },
     "execution_count": 52,
     "metadata": {},
     "output_type": "execute_result"
    }
   ],
   "source": [
    "letters = \"aaabcaaabda\"\n",
    "# letters = 00012000130\n",
    "letters_dict = {\n",
    "    \"a\": 0,\n",
    "    \"b\": 1,\n",
    "    \"c\": 2,\n",
    "    \"d\": 3,\n",
    "    \"e\": 4,\n",
    "    \"f\": 5,\n",
    "    \"g\": 6,\n",
    "    \"h\": 7,\n",
    "    \"i\": 8,\n",
    "    \"j\": 9,\n",
    "    \"k\": 10,\n",
    "    \"l\": 11,\n",
    "    \"m\": 12,\n",
    "    \"n\": 13,\n",
    "    \"o\": 14,\n",
    "    \"p\": 15,\n",
    "    \"q\": 16,\n",
    "    \"r\": 17,\n",
    "    \"s\": 18,\n",
    "    \"t\": 19,\n",
    "    \"u\": 20,\n",
    "    \"v\": 21,\n",
    "    \"w\": 22,\n",
    "    \"x\": 23,\n",
    "    \"y\": 24,\n",
    "    \"z\": 25,\n",
    "}\n",
    "\n",
    "\n",
    "def letters_to_numbers(letters):\n",
    "    numbers = []\n",
    "    for letter in letters:\n",
    "        numbers.append(letters_dict[letter])\n",
    "    return numbers\n",
    "\n",
    "\n",
    "def generate_tokens(letters, current_index = 0):\n",
    "    current_token_number = 25\n",
    "    letters_arr = letters_to_numbers(letters)\n",
    "    \n",
    "        # letters = letters_to_numbers(letters)\n",
    "    letters_arr = [[letters[index-1], letters[index]] for index in range(0,len(letters) -1, 2)]\n",
    "    dict = []\n",
    "    first_pair = letters_arr[0]\n",
    "    ocurrences = 0\n",
    "    ocurrencesIndex = []\n",
    "    print(letters_arr)\n",
    "    # for j in range(current_index, len(letters_arr)):\n",
    "    #     print(j)\n",
    "    #     if (first_pair == letters_arr[j]):\n",
    "    #       ocurrences += 1\n",
    "    #       ocurrencesIndex.append(j)\n",
    "\n",
    "    # # print(ocurrencesIndex)\n",
    "\n",
    "    # if (ocurrences > 0):\n",
    "        \n",
    "    #     letters_arr[current_index] = current_token_number\n",
    "    #     current_token_number += 1\n",
    "    #     for ocurrence_index in ocurrencesIndex:\n",
    "    #         letters_arr[ocurrence_index] = current_token_number\n",
    "      \n",
    "    # print(letters)\n",
    "    # print(letters_arr)\n",
    "    tokens = []\n",
    "    # print(dict)\n",
    "    # for letter in letters:\n",
    "    #     tokens.append(letter)\n",
    "    return tokens\n",
    "\n",
    "\n",
    "generate_tokens(letters)"
   ]
  }
 ],
 "metadata": {
  "kernelspec": {
   "display_name": "Python 3",
   "language": "python",
   "name": "python3"
  },
  "language_info": {
   "codemirror_mode": {
    "name": "ipython",
    "version": 3
   },
   "file_extension": ".py",
   "mimetype": "text/x-python",
   "name": "python",
   "nbconvert_exporter": "python",
   "pygments_lexer": "ipython3",
   "version": "3.10.12"
  }
 },
 "nbformat": 4,
 "nbformat_minor": 2
}
