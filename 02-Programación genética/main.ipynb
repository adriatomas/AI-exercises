{
 "cells": [
  {
   "cell_type": "markdown",
   "metadata": {},
   "source": [
    "definir gen: (cada gen sería un tablero)\n",
    "- crear tablero 1 si hay reina y 0 si no hay reina \n",
    "- hay tantas reinas cómo columnas\n",
    "- Ver en que fila hay un reina por columna (número de fila en la que hay la reina) (1,3,0,2) -> no pueden haber números iguales por que no `pueden haber reinas en las misma columnas\n",
    "\n",
    "- Cómo hace el fitness (mirar cuantas colisiones hay)\n",
    "fitne (gen): gen (1,3,0,2)\n",
    "  devuelve la cantidad de colisiones en las que se choca la reina (mirar diagonales) sumar todas las colisiones (fitness score optimo sería 4 por que la función siempre devolvera su propia reina (1))\n",
    "\n",
    "\n",
    "\n",
    "Dado un tablero de N x N, se han de poder poner N reinas en el tablero"
   ]
  },
  {
   "cell_type": "markdown",
   "metadata": {},
   "source": []
  },
  {
   "cell_type": "markdown",
   "metadata": {},
   "source": [
    "Definir variables"
   ]
  },
  {
   "cell_type": "code",
   "execution_count": 61,
   "metadata": {},
   "outputs": [],
   "source": [
    "import random\n",
    "\n",
    "ROWS = 80\n",
    "COLS = ROWS\n",
    "QUEENS = ROWS\n",
    "MUTATION_PCT = 0.05\n",
    "POPULATION_SIZE = 300\n",
    "SOLUTION = QUEENS\n",
    "MAX_GENERATIONS = 1000\n",
    "\n"
   ]
  },
  {
   "cell_type": "markdown",
   "metadata": {},
   "source": [
    "Crear should_mutate, mutate, select fitness y"
   ]
  },
  {
   "cell_type": "code",
   "execution_count": 62,
   "metadata": {},
   "outputs": [],
   "source": [
    "def should_mutate(percetage):\n",
    "  return random.random() <= percetage\n",
    "\n",
    "\n",
    "def mutate(agent):\n",
    "  if should_mutate(MUTATION_PCT):\n",
    "    random_value_1 = random.randint(0,ROWS - 1)\n",
    "    random_value_2 = random.randint(0,ROWS - 1)\n",
    "\n",
    "    temp_value = agent[random_value_1]\n",
    "    agent[random_value_1] = agent[random_value_2]\n",
    "    agent[random_value_2] = temp_value\n",
    "\n",
    "  return agent\n",
    "\n",
    "def select_best_population(population, population_size):\n",
    "  scores = list(map(fitness, population))\n",
    "  ordered_scores, ordered_population = zip(*(sorted(zip(scores, population))))\n",
    "  scores_list, ordered_population_list = list(ordered_scores), list(ordered_population)\n",
    "\n",
    "  return ordered_population_list[:population_size], scores_list[:population_size]\n",
    "\n",
    "#devolverá el número de colisiones con la reina contadose así misma  abs( x1 - x2) == abs(y1, y2) \n",
    "def fitness(agent):\n",
    "  queens_coords = list(map(lambda x: (x[0], x[1]), enumerate(agent)))\n",
    "\n",
    "  collisions = 0\n",
    "\n",
    "  for coord1 in queens_coords:\n",
    "    for coord2 in queens_coords:\n",
    "      x1, y1 = coord1\n",
    "      x2, y2 = coord2\n",
    "      if (abs(x1 - x2) == abs(y1 - y2)):\n",
    "        collisions += 1\n",
    "  \n",
    "  return collisions\n",
    "\n",
    "def merge(population, newPopulation):\n",
    "  merged_population = population + newPopulation\n",
    "  return merged_population\n",
    "\n",
    "\n"
   ]
  },
  {
   "cell_type": "markdown",
   "metadata": {},
   "source": [
    "Definir la función para generar los gene, la población, seleccionar los mejorar candidatos,el ,y el crossover (reproducción)"
   ]
  },
  {
   "cell_type": "code",
   "execution_count": 63,
   "metadata": {},
   "outputs": [],
   "source": [
    "def create_agent(): # el gen\n",
    "  not_suffled_agent = list(range(0, ROWS))\n",
    "  return random.sample(not_suffled_agent, ROWS)\n",
    "\n",
    "def create_population():\n",
    "   return [create_agent() for x in range(POPULATION_SIZE)]\n",
    "   \n",
    "\n",
    "def crossover(agent1, agent2):\n",
    "   half = len(agent1) // 2\n",
    "\n",
    "   ##concateno los arrays y devuelvo dos hijo\n",
    "   return [mutate(agent1[:half] + agent2[half:]), mutate(agent2[:half] + agent1[half:])]"
   ]
  },
  {
   "cell_type": "markdown",
   "metadata": {},
   "source": [
    "Método main"
   ]
  },
  {
   "cell_type": "code",
   "execution_count": 65,
   "metadata": {},
   "outputs": [
    {
     "name": "stdout",
     "output_type": "stream",
     "text": [
      "generacion:  100\n",
      "generacion:  200\n",
      "generacion:  300\n",
      "generacion:  400\n",
      "La solución es 80 y se ha encontrado en 409 generaciones.\n"
     ]
    }
   ],
   "source": [
    "def main():\n",
    "  population, best_solution = create_population(), 0\n",
    "  generation = 0\n",
    "  best_solution = None\n",
    "  counter = 0\n",
    "  while(best_solution != SOLUTION):\n",
    "    population, scores = select_best_population(population, POPULATION_SIZE)\n",
    "    generation += 1\n",
    "    best_solution = scores[0]\n",
    "    counter += 1\n",
    "    children_agents = []\n",
    "    print(generation)\n",
    "    if generation % 100 == 0:\n",
    "      print('generacion: ', generation)\n",
    "    for i in range(0, len(population), 2):\n",
    "      children_agents = children_agents + crossover(population[i], population[i+1])\n",
    "\n",
    "    population[:] = merge(population, children_agents)\n",
    "\n",
    "  print(f'La solución es {best_solution} y se ha encontrado en {generation} generaciones.')\n",
    "\n",
    "\n",
    "main()"
   ]
  }
 ],
 "metadata": {
  "kernelspec": {
   "display_name": "Python 3",
   "language": "python",
   "name": "python3"
  },
  "language_info": {
   "codemirror_mode": {
    "name": "ipython",
    "version": 3
   },
   "file_extension": ".py",
   "mimetype": "text/x-python",
   "name": "python",
   "nbconvert_exporter": "python",
   "pygments_lexer": "ipython3",
   "version": "3.8.12"
  },
  "orig_nbformat": 4
 },
 "nbformat": 4,
 "nbformat_minor": 2
}
