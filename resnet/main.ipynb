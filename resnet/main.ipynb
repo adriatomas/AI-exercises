{
 "cells": [
  {
   "cell_type": "code",
   "execution_count": 2,
   "metadata": {},
   "outputs": [],
   "source": [
    "import torch\n",
    "import torch.nn as nn\n",
    "from torchvision.models import resnet50, ResNet50_Weights\n",
    "import os\n",
    "from torchvision.io import read_image\n",
    "import matplotlib.pyplot as plt\n",
    "import numpy as np\n",
    "from IPython.display import display\n",
    "from torchvision.transforms.functional import get_image_size"
   ]
  },
  {
   "cell_type": "code",
   "execution_count": 3,
   "metadata": {},
   "outputs": [],
   "source": [
    "weights = ResNet50_Weights.DEFAULT\n",
    "preprocess = weights.transforms()\n"
   ]
  },
  {
   "cell_type": "code",
   "execution_count": null,
   "metadata": {},
   "outputs": [],
   "source": [
    "class Conv2dLReluBlock(nn.Module):\n",
    "  def __init__(self,in_channels, out_channels, kernel_size ,**kwargs) -> None:\n",
    "    super(Conv2dLReluBlock, self).__init__()\n",
    "    self.block = nn.Sequential(\n",
    "      nn.Conv2d(in_channels, out_channels, kernel_size, **kwargs),\n",
    "      nn.BatchNorm2d(out_channels),\n",
    "      nn.ReLU())\n",
    "\n",
    "  def forward(self, x):\n",
    "    prev_x = self.block(x) \n",
    "    return prev_x + x"
   ]
  }
 ],
 "metadata": {
  "kernelspec": {
   "display_name": "Python 3",
   "language": "python",
   "name": "python3"
  },
  "language_info": {
   "codemirror_mode": {
    "name": "ipython",
    "version": 3
   },
   "file_extension": ".py",
   "mimetype": "text/x-python",
   "name": "python",
   "nbconvert_exporter": "python",
   "pygments_lexer": "ipython3",
   "version": "3.10.12"
  }
 },
 "nbformat": 4,
 "nbformat_minor": 2
}
